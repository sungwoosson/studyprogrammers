{
 "cells": [
  {
   "cell_type": "code",
   "execution_count": null,
   "metadata": {},
   "outputs": [],
   "source": [
    "def solution(numbers, hand):\n",
    "    answer = ''\n",
    "\n",
    "    dic = {1: [0, 0], 2: [0, 1], 3: [0, 2],\n",
    "           4: [1, 0], 5: [1, 1], 6: [1, 2],\n",
    "           7: [2, 0], 8: [2, 1], 9: [2, 2],\n",
    "           '*': [3, 0], 0: [3, 1], '#': [3, 2]\n",
    "    }\n",
    "\n",
    "    leftstart = dic['*']\n",
    "    rightstart = dic['#']\n",
    "\n",
    "    for i in numbers:\n",
    "        now = dic[i]\n",
    "\n",
    "        if i in [1, 4, 7]:\n",
    "            answer += 'L'\n",
    "            leftstart = now\n",
    "        elif i in [3, 6, 9]:\n",
    "            answer += 'R'\n",
    "            rightstart = now\n",
    "        else:\n",
    "            left_d = 0\n",
    "            right_d = 0\n",
    "            for a, b, c in zip(leftstart, rightstart, now):\n",
    "                left_d += abs(a - c)\n",
    "                right_d += abs(b - c)\n",
    "\n",
    "            if left_d < right_d:\n",
    "                answer += 'L'\n",
    "                leftstart = now\n",
    "\n",
    "            elif left_d > right_d:\n",
    "                answer += 'R'\n",
    "                rightstart = now\n",
    "\n",
    "            else:\n",
    "                if hand == 'left':\n",
    "                    answer += 'L'\n",
    "                    leftstart = now\n",
    "\n",
    "                else:\n",
    "                    answer += 'R'\n",
    "                    rightstart = now\n",
    "\n",
    "    return answer"
   ]
  }
 ],
 "metadata": {
  "language_info": {
   "name": "python"
  },
  "orig_nbformat": 4
 },
 "nbformat": 4,
 "nbformat_minor": 2
}
