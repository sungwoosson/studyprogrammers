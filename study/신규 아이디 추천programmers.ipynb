{
 "cells": [
  {
   "cell_type": "code",
   "execution_count": 1,
   "metadata": {},
   "outputs": [
    {
     "name": "stdout",
     "output_type": "stream",
     "text": [
      "bat.y.abcdefghi\n"
     ]
    }
   ],
   "source": [
    "import re\n",
    "\n",
    "def solution(new_id):\n",
    "    \n",
    "    #first\n",
    "    new_id = new_id.lower()\n",
    "    #second \n",
    "    #알파벳 소문자, 숫자, 빼기, 밑줄, 마침표 치환\n",
    "    nid = re.compile('[0-9a-z_.-]+')\n",
    "    new_id = nid.findall(new_id)\n",
    "    new_id = ''.join(new_id)\n",
    "\n",
    "    #thrid \n",
    "    #연속 마침표 하나로 변환\n",
    "    while '..' in new_id:\n",
    "        new_id = new_id.replace('..','.')\n",
    "\n",
    "    #fourth\n",
    "    new_id = new_id.strip('.')\n",
    "\n",
    "\n",
    "    # if len(new_id) > 1 :\n",
    "    #     if new_id[0] == '.' :\n",
    "    #         new_id = new_id[1:]\n",
    "    \n",
    "    #     if new_id[-1] == '.' :\n",
    "    #         new_id = new_id[0:-1]\n",
    "        \n",
    "\n",
    "    #fifth\n",
    "    if new_id == '':\n",
    "        new_id = 'a'\n",
    "\n",
    "    #sixth\n",
    "    if len(new_id) > 15 :\n",
    "        new_id = new_id[0:15]\n",
    "        if new_id[14] == '.':\n",
    "            new_id = new_id[0:14]\n",
    "\n",
    "    #seventh\n",
    "    if len(new_id) < 3 :\n",
    "        if len(new_id) == 1 :\n",
    "            new_id = new_id + new_id + new_id\n",
    "        if len(new_id) == 2 :\n",
    "            new_id = new_id + new_id[1]\n",
    "        \n",
    "        \n",
    "    answer = new_id\n",
    "    return answer\n",
    "\n",
    "\n",
    "new_id = str(input())\n",
    "print(solution(new_id))"
   ]
  },
  {
   "cell_type": "code",
   "execution_count": null,
   "metadata": {},
   "outputs": [],
   "source": []
  },
  {
   "cell_type": "code",
   "execution_count": null,
   "metadata": {},
   "outputs": [],
   "source": []
  },
  {
   "cell_type": "code",
   "execution_count": 4,
   "metadata": {},
   "outputs": [
    {
     "name": "stdout",
     "output_type": "stream",
     "text": [
      "abcd\n"
     ]
    }
   ],
   "source": []
  },
  {
   "cell_type": "code",
   "execution_count": 6,
   "metadata": {},
   "outputs": [
    {
     "name": "stdout",
     "output_type": "stream",
     "text": [
      "abc\n",
      "a\n",
      "b\n",
      "c\n"
     ]
    }
   ],
   "source": []
  },
  {
   "cell_type": "code",
   "execution_count": 8,
   "metadata": {},
   "outputs": [
    {
     "ename": "NameError",
     "evalue": "name 'age' is not defined",
     "output_type": "error",
     "traceback": [
      "\u001b[1;31m---------------------------------------------------------------------------\u001b[0m",
      "\u001b[1;31mNameError\u001b[0m                                 Traceback (most recent call last)",
      "\u001b[1;32m<ipython-input-8-aa1ea42a7b4e>\u001b[0m in \u001b[0;36m<module>\u001b[1;34m\u001b[0m\n\u001b[1;32m----> 1\u001b[1;33m \u001b[1;32mclass\u001b[0m \u001b[0mPerson\u001b[0m\u001b[1;33m(\u001b[0m\u001b[0mage\u001b[0m\u001b[1;33m)\u001b[0m\u001b[1;33m:\u001b[0m\u001b[1;33m\u001b[0m\u001b[1;33m\u001b[0m\u001b[0m\n\u001b[0m\u001b[0;32m      2\u001b[0m \u001b[1;33m\u001b[0m\u001b[0m\n\u001b[0;32m      3\u001b[0m     \u001b[1;32mdef\u001b[0m \u001b[0m__init__\u001b[0m\u001b[1;33m(\u001b[0m\u001b[0mself\u001b[0m\u001b[1;33m)\u001b[0m\u001b[1;33m:\u001b[0m\u001b[1;33m\u001b[0m\u001b[1;33m\u001b[0m\u001b[0m\n\u001b[0;32m      4\u001b[0m         \u001b[0mself\u001b[0m\u001b[1;33m.\u001b[0m\u001b[0mage\u001b[0m \u001b[1;33m=\u001b[0m \u001b[0mage\u001b[0m\u001b[1;33m\u001b[0m\u001b[1;33m\u001b[0m\u001b[0m\n\u001b[0;32m      5\u001b[0m         \u001b[0mprint\u001b[0m\u001b[1;33m(\u001b[0m\u001b[1;34m'Person __init__'\u001b[0m\u001b[1;33m)\u001b[0m\u001b[1;33m\u001b[0m\u001b[1;33m\u001b[0m\u001b[0m\n",
      "\u001b[1;31mNameError\u001b[0m: name 'age' is not defined"
     ]
    }
   ],
   "source": []
  },
  {
   "cell_type": "code",
   "execution_count": null,
   "metadata": {},
   "outputs": [],
   "source": []
  },
  {
   "cell_type": "code",
   "execution_count": 22,
   "metadata": {},
   "outputs": [
    {
     "name": "stdout",
     "output_type": "stream",
     "text": [
      "이제시작\n",
      "이제시작\n",
      "나의 이름은 짱구 나이는 10 입니다 힘은 6 입니다.\n",
      "나의 이름은 철수 나이는 12 입니다 힘은 5 입니다.\n",
      "이제시작\n",
      "__와이라노__\n",
      "2\n",
      "차량번호 :석열\n",
      "차량번호 :석열\n"
     ]
    },
    {
     "data": {
      "text/plain": [
       "<__main__.Human at 0x1e7f965ce08>"
      ]
     },
     "execution_count": 22,
     "metadata": {},
     "output_type": "execute_result"
    }
   ],
   "source": []
  },
  {
   "cell_type": "code",
   "execution_count": null,
   "metadata": {},
   "outputs": [],
   "source": []
  },
  {
   "cell_type": "code",
   "execution_count": null,
   "metadata": {},
   "outputs": [],
   "source": []
  }
 ],
 "metadata": {
  "interpreter": {
   "hash": "9b9d9f7c280a0e1d18d11a2e303bacbe9c0ea4a7172566f81039e82f548fd704"
  },
  "kernelspec": {
   "display_name": "Python 3.7.6 64-bit ('base': conda)",
   "language": "python",
   "name": "python3"
  },
  "language_info": {
   "codemirror_mode": {
    "name": "ipython",
    "version": 3
   },
   "file_extension": ".py",
   "mimetype": "text/x-python",
   "name": "python",
   "nbconvert_exporter": "python",
   "pygments_lexer": "ipython3",
   "version": "3.7.6"
  },
  "orig_nbformat": 4
 },
 "nbformat": 4,
 "nbformat_minor": 2
}
